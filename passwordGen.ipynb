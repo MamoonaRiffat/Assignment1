{
 "cells": [
  {
   "cell_type": "code",
   "execution_count": 1,
   "metadata": {},
   "outputs": [
    {
     "name": "stdout",
     "output_type": "stream",
     "text": [
      "Generated Password: HJ,7TLSkX\n"
     ]
    }
   ],
   "source": [
    "#Code 1\n",
    "#Mamoona Riffat \n",
    "import random\n",
    "import string\n",
    "\n",
    "def gen_password(length=9):  ##defining a function with name gen_password having total length of 9 characters\n",
    "    characters = string.ascii_letters + string.digits + string.punctuation\n",
    "    password = ''.join(random.choice(characters) for _ in range(length))  ##for loop will run untill 9 charcaters\n",
    "    return password    ##this is function call\n",
    "\n",
    "\n",
    "password = gen_password() ##saving data in another varible named as password\n",
    "print(\"Generated Password:\", password)   ##Displyaing random password on screen"
   ]
  }
 ],
 "metadata": {
  "kernelspec": {
   "display_name": "Python 3",
   "language": "python",
   "name": "python3"
  },
  "language_info": {
   "codemirror_mode": {
    "name": "ipython",
    "version": 3
   },
   "file_extension": ".py",
   "mimetype": "text/x-python",
   "name": "python",
   "nbconvert_exporter": "python",
   "pygments_lexer": "ipython3",
   "version": "3.11.4"
  },
  "orig_nbformat": 4
 },
 "nbformat": 4,
 "nbformat_minor": 2
}
