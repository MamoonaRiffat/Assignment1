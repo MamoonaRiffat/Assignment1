{
 "cells": [
  {
   "attachments": {},
   "cell_type": "markdown",
   "metadata": {},
   "source": [
    "Code 2\n",
    "Basic Python Game \n",
    "Mamoona Riffat"
   ]
  },
  {
   "attachments": {},
   "cell_type": "markdown",
   "metadata": {},
   "source": [
    " The rules for the game are\n",
    "\n",
    "Rock smashes scissors.\n",
    "Paper covers rock.\n",
    "Scissors cut paper"
   ]
  },
  {
   "cell_type": "code",
   "execution_count": 2,
   "metadata": {},
   "outputs": [
    {
     "name": "stdout",
     "output_type": "stream",
     "text": [
      "\n",
      "You chose rock, computer chose scissors.\n",
      "\n",
      "Rock smashes scissors! You win!\n"
     ]
    }
   ],
   "source": [
    "import random    #Random options can be chosen by used\n",
    "\n",
    "user_action = input(\"Enter a choice (rock, paper, scissors): \") #taking input from user\n",
    "possible_actions = [\"rock\", \"paper\", \"scissors\"] #three possible actions that can be chosen\n",
    "computer_action = random.choice(possible_actions)   # computer will chose any random choice from the three choices\n",
    "print(f\"\\nYou chose {user_action}, computer chose {computer_action}.\\n\") \n",
    "\n",
    "if user_action == computer_action: # if statemnt is comparing values here if computer choice matches with user it will return a message\n",
    "    print(f\"Both players selected {user_action}. It's a tie!\")\n",
    "elif user_action == \"rock\":  #else if statemnt is used if 1st one is not true then display this\n",
    "    if computer_action == \"scissors\":\n",
    "        print(\"Rock smashes scissors! You win!\")\n",
    "    else:\n",
    "        print(\"Paper covers rock! You lose.\")\n",
    "elif user_action == \"paper\":\n",
    "    if computer_action == \"rock\":\n",
    "        print(\"Paper covers rock! You win!\")  #if your choice and computer choice is copmatible to the rules above, you will win other wise you will lose\n",
    "    else:\n",
    "        print(\"Scissors cuts paper! You lose.\")\n",
    "elif user_action == \"scissors\":\n",
    "    if computer_action == \"paper\":\n",
    "        print(\"Scissors cuts paper! You win!\")\n",
    "    else:\n",
    "        print(\"Rock smashes scissors! You lose.\")"
   ]
  }
 ],
 "metadata": {
  "kernelspec": {
   "display_name": "Python 3",
   "language": "python",
   "name": "python3"
  },
  "language_info": {
   "codemirror_mode": {
    "name": "ipython",
    "version": 3
   },
   "file_extension": ".py",
   "mimetype": "text/x-python",
   "name": "python",
   "nbconvert_exporter": "python",
   "pygments_lexer": "ipython3",
   "version": "3.11.4"
  },
  "orig_nbformat": 4
 },
 "nbformat": 4,
 "nbformat_minor": 2
}
